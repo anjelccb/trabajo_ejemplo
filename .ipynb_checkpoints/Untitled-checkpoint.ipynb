{
 "cells": [
  {
   "cell_type": "code",
   "execution_count": 10,
   "metadata": {},
   "outputs": [],
   "source": [
    "import pandas as pd"
   ]
  },
  {
   "cell_type": "code",
   "execution_count": 5,
   "metadata": {},
   "outputs": [
    {
     "name": "stdout",
     "output_type": "stream",
     "text": [
      "[{'text': '@Santi_ABASCAL Los españoles tenemos que estar muy orgullosos de haber puesto 24 valientes al timón de la defensa de la unidad de España y de la libertad del pueblo catalán, que ha sido secuestrado por el totalitarismo, la locura NAZIonalista y separatista al amparo de la cobardía del resto..', 'external_id': None, 'error': False, 'classifications': [{'tag_name': 'Positive', 'tag_id': 122717098, 'confidence': 0.797}]}]\n"
     ]
    }
   ],
   "source": [
    "from monkeylearn import MonkeyLearn\n",
    "\n",
    "ml = MonkeyLearn('27311c889bf7911fb432d08416467dca9ee38c8a')\n",
    "data = [\"@Santi_ABASCAL Los españoles tenemos que estar muy orgullosos de haber puesto 24 valientes al timón de la defensa de la unidad de España y de la libertad del pueblo catalán, que ha sido secuestrado por el totalitarismo, la locura NAZIonalista y separatista al amparo de la cobardía del resto..\"]\n",
    "model_id = 'cl_Y99bTLf3'\n",
    "result = ml.classifiers.classify(model_id, data)\n",
    "print(result.body)"
   ]
  },
  {
   "cell_type": "code",
   "execution_count": 8,
   "metadata": {},
   "outputs": [],
   "source": [
    "from textblob import TextBlob"
   ]
  },
  {
   "cell_type": "code",
   "execution_count": 16,
   "metadata": {},
   "outputs": [],
   "source": [
    "texto = pd.read_csv(\"tweets.csv\")"
   ]
  },
  {
   "cell_type": "code",
   "execution_count": 17,
   "metadata": {},
   "outputs": [],
   "source": [
    "texto = texto.tweet"
   ]
  },
  {
   "cell_type": "code",
   "execution_count": 20,
   "metadata": {},
   "outputs": [
    {
     "data": {
      "text/plain": [
       "'  jonviene  hablando sobre la adopcin por parte de personas homosexuales  abascal prcticamente ha dicho   hombre  si les sobra un nio'"
      ]
     },
     "execution_count": 20,
     "metadata": {},
     "output_type": "execute_result"
    }
   ],
   "source": [
    "texto[0]"
   ]
  },
  {
   "cell_type": "code",
   "execution_count": 21,
   "metadata": {},
   "outputs": [],
   "source": [
    "blob_texto = TextBlob(texto[0])"
   ]
  },
  {
   "cell_type": "code",
   "execution_count": 22,
   "metadata": {},
   "outputs": [
    {
     "data": {
      "text/plain": [
       "TextBlob(\"  jonviene  hablando sobre la adopcin por parte de personas homosexuales  abascal prcticamente ha dicho   hombre  si les sobra un nio\")"
      ]
     },
     "execution_count": 22,
     "metadata": {},
     "output_type": "execute_result"
    }
   ],
   "source": [
    "blob_texto"
   ]
  }
 ],
 "metadata": {
  "kernelspec": {
   "display_name": "Python 3",
   "language": "python",
   "name": "python3"
  },
  "language_info": {
   "codemirror_mode": {
    "name": "ipython",
    "version": 3
   },
   "file_extension": ".py",
   "mimetype": "text/x-python",
   "name": "python",
   "nbconvert_exporter": "python",
   "pygments_lexer": "ipython3",
   "version": "3.6.8"
  }
 },
 "nbformat": 4,
 "nbformat_minor": 2
}
