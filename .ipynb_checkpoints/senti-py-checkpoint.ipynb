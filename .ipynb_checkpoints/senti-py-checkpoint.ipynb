{
 "cells": [
  {
   "cell_type": "code",
   "execution_count": 14,
   "metadata": {},
   "outputs": [],
   "source": [
    "from classifier import *"
   ]
  },
  {
   "cell_type": "code",
   "execution_count": 15,
   "metadata": {},
   "outputs": [],
   "source": [
    "clf = SentimentClassifier()"
   ]
  },
  {
   "cell_type": "code",
   "execution_count": 20,
   "metadata": {},
   "outputs": [
    {
     "name": "stdout",
     "output_type": "stream",
     "text": [
      "me cae fatal ==> 0.08050\n"
     ]
    }
   ],
   "source": [
    "x = \"me cae fatal\"\n",
    "\n",
    "print(x + ' ==> %.5f' % clf.predict(x))"
   ]
  },
  {
   "cell_type": "code",
   "execution_count": 30,
   "metadata": {},
   "outputs": [],
   "source": [
    "df = pd.read_csv(\"tweets.csv\")"
   ]
  },
  {
   "cell_type": "code",
   "execution_count": 31,
   "metadata": {},
   "outputs": [],
   "source": [
    "df = df[100:125]"
   ]
  },
  {
   "cell_type": "code",
   "execution_count": 32,
   "metadata": {},
   "outputs": [
    {
     "name": "stdout",
     "output_type": "stream",
     "text": [
      "     santi abascal imagnate a un pelele con la camiseta del ejercito de tierra espaol o a un ma    t co  ==> 0.02472\n",
      "    pablo motos  sin quererlo  le est haciendo a abascal la mejor campaa posible hacindole la entrevista ms dura que h ==> 0.55998\n",
      "  fonsiloaiza  abascal se afili al pp con  aos y ha tenido  cargos  a sus  aos no ha cotizado nunca fuera de la poltica  ha cobr ==> 0.11242\n",
      "  jupolvalladolid  qu opina  santi abascal de  aos de injusticia a las ffccssee    policia y  guardiacivil cobrando menos que la ==> 0.02714\n",
      "desmontando a abascal  las  mentiras que le ha contado a pablo motos en  el hormiguero     t co  v    t co  ==> 0.18620\n",
      "  sonrisitasbobas   no encarcelara a ninguna mujer por abortar   no veo mal que dos hombres se besen en la gran va   no me opongo a la ==> 0.01680\n",
      "  igarrigavaz  vaya si resulta que despus de la entrevista a  santi abascal millones de espaoles han descubierto que los de vox ni son ==> 0.01542\n",
      "    corregidme si me equivoco  pero    aquellos que estn pidiendo el boicot a cuatro por entrevistar a santiago abascal  no son ==> 0.00541\n",
      "abascal le retira un  regalo  a pablo motos en  el hormiguero    no te est gustando la entrevista      t co itmvfaklqj ==> 0.21980\n",
      "  vox es    santi abascal en  el hormiguero    ordenara la detencin de torra  la suspensin de la autonoma de catalua  cerrar  y ==> 0.50653\n",
      "  casoaislado es  a ver si se enteran los progres  pablo motos no lo ha podido explicar mejor   santiagoabascaleh   no sera democrtico ==> 0.02701\n",
      "  vox es    santi abascal en  el hormiguero    ordenara la detencin de torra  la suspensin de la autonoma de catalua  cerrar  y ==> 0.50653\n",
      "  carnecrudaradio   vox no es un partido ms para ir ah con trancas y barrancas y la qumica  eso es normalizar a la extrema derecha   ==> 0.18707\n",
      "pablo motos justifica as haber llevado a abascal a  el hormiguero     y este le corrige nada ms entrar    t co  ==> 0.11914\n",
      " gatomochete  cristinasolanos  puigmelont  alonso dm porque el lobby feminista da mucho dinero a los medios   no su    t co iyynmcsleq ==> 0.10909\n",
      "  vox es    santi abascal en  el hormiguero     el objetivo no es desenterrar a franco  es la excusa  el objetivo es felipe vi y an m ==> 0.08785\n",
      "  fonsiloaiza  abascal se afili al pp con  aos y ha tenido  cargos  a sus  aos no ha cotizado nunca fuera de la poltica  ha cobr ==> 0.11242\n",
      "     santiagoabascaleh que escndalo santiago abascal en televisin       t co  ==> 0.33879\n",
      "  fonsiloaiza  abascal se afili al pp con  aos y ha tenido  cargos  a sus  aos no ha cotizado nunca fuera de la poltica  ha cobr ==> 0.11242\n",
      "  agustinrosety  a nadie le han hecho una entrevista en el hormiguero como la que le han hecho hoy a  santi abascal   y ha salido ms que ==> 0.07206\n",
      "    corregidme si me equivoco  pero    aquellos que estn pidiendo el boicot a cuatro por entrevistar a santiago abascal  no son ==> 0.00541\n",
      "  antoniornaranjo  los mismos que no decan ni m o apoyaban la presencia de otegi en tve la lan parda ahora por ver a abascal en el hor ==> 0.00272\n",
      "  anabelalonso of   la mujer que quiera va a abortar pero no tendr ayuda pblica  santiago abascal  osea  las que no tengan recursos se ==> 0.00613\n",
      "     el hormiguero  santi abascal  vox es hayyy como estn los progres      los tolerantes     ==> 0.02100\n",
      "  igarrigavaz  vaya si resulta que despus de la entrevista a  santi abascal millones de espaoles han descubierto que los de vox ni son ==> 0.01542\n"
     ]
    }
   ],
   "source": [
    "for x in df.tweet:\n",
    "    print (x + ' ==> %.5f' % clf.predict(x))"
   ]
  },
  {
   "cell_type": "code",
   "execution_count": null,
   "metadata": {},
   "outputs": [],
   "source": []
  }
 ],
 "metadata": {
  "kernelspec": {
   "display_name": "Python 3",
   "language": "python",
   "name": "python3"
  },
  "language_info": {
   "codemirror_mode": {
    "name": "ipython",
    "version": 3
   },
   "file_extension": ".py",
   "mimetype": "text/x-python",
   "name": "python",
   "nbconvert_exporter": "python",
   "pygments_lexer": "ipython3",
   "version": "3.6.8"
  }
 },
 "nbformat": 4,
 "nbformat_minor": 2
}
