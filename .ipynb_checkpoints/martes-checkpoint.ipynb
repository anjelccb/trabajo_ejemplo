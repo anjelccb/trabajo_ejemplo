{
 "cells": [
  {
   "cell_type": "code",
   "execution_count": 1,
   "metadata": {},
   "outputs": [],
   "source": [
    "import pandas as pd"
   ]
  },
  {
   "cell_type": "code",
   "execution_count": 2,
   "metadata": {},
   "outputs": [],
   "source": [
    "from googletrans import Translator\n",
    "translator = Translator()"
   ]
  },
  {
   "cell_type": "code",
   "execution_count": 3,
   "metadata": {},
   "outputs": [
    {
     "name": "stdout",
     "output_type": "stream",
     "text": [
      "Hola me llamo angel  ->  Hello my name is Angel\n",
      "me encanta el arroz  ->  I love rice\n",
      "buenos dias  ->  good morning\n"
     ]
    }
   ],
   "source": [
    "translations = translator.translate(['Hola me llamo angel', 'me encanta el arroz', 'buenos dias'], dest='en')\n",
    "for translation in translations:\n",
    "    print(translation.origin, ' -> ', translation.text)"
   ]
  },
  {
   "cell_type": "code",
   "execution_count": 4,
   "metadata": {},
   "outputs": [],
   "source": [
    "tweets = pd.read_csv(\"tweets.csv\")"
   ]
  },
  {
   "cell_type": "code",
   "execution_count": 5,
   "metadata": {},
   "outputs": [],
   "source": [
    "a =  list(tweets[\"tweet\"])"
   ]
  },
  {
   "cell_type": "code",
   "execution_count": 91,
   "metadata": {},
   "outputs": [],
   "source": [
    "tweets_10 = tweets[0:10]"
   ]
  },
  {
   "cell_type": "code",
   "execution_count": 92,
   "metadata": {},
   "outputs": [
    {
     "data": {
      "text/html": [
       "<div>\n",
       "<style scoped>\n",
       "    .dataframe tbody tr th:only-of-type {\n",
       "        vertical-align: middle;\n",
       "    }\n",
       "\n",
       "    .dataframe tbody tr th {\n",
       "        vertical-align: top;\n",
       "    }\n",
       "\n",
       "    .dataframe thead th {\n",
       "        text-align: right;\n",
       "    }\n",
       "</style>\n",
       "<table border=\"1\" class=\"dataframe\">\n",
       "  <thead>\n",
       "    <tr style=\"text-align: right;\">\n",
       "      <th></th>\n",
       "      <th>tweet</th>\n",
       "    </tr>\n",
       "  </thead>\n",
       "  <tbody>\n",
       "    <tr>\n",
       "      <td>0</td>\n",
       "      <td>jonviene  hablando sobre la adopcin por part...</td>\n",
       "    </tr>\n",
       "    <tr>\n",
       "      <td>1</td>\n",
       "      <td>manhattanmanone  no he podido ver el program...</td>\n",
       "    </tr>\n",
       "    <tr>\n",
       "      <td>2</td>\n",
       "      <td>fonsiloaiza  abascal se afili al pp con  aos...</td>\n",
       "    </tr>\n",
       "    <tr>\n",
       "      <td>3</td>\n",
       "      <td>vox es    santi abascal en  el hormiguero   ...</td>\n",
       "    </tr>\n",
       "    <tr>\n",
       "      <td>4</td>\n",
       "      <td>anabelalonso of   la mujer que quiera va a a...</td>\n",
       "    </tr>\n",
       "    <tr>\n",
       "      <td>5</td>\n",
       "      <td>manhattanmanone  vox es  santi abascal zascaa...</td>\n",
       "    </tr>\n",
       "    <tr>\n",
       "      <td>6</td>\n",
       "      <td>janogarcia   qu triste que pablo motos tenga...</td>\n",
       "    </tr>\n",
       "    <tr>\n",
       "      <td>7</td>\n",
       "      <td>sapientiae  cuando te mola ms un comunista ...</td>\n",
       "    </tr>\n",
       "    <tr>\n",
       "      <td>8</td>\n",
       "      <td>el hormiguero  santi abascal pablo motos  est...</td>\n",
       "    </tr>\n",
       "    <tr>\n",
       "      <td>9</td>\n",
       "      <td>vox es    santi abascal en  el hormiguero   ...</td>\n",
       "    </tr>\n",
       "  </tbody>\n",
       "</table>\n",
       "</div>"
      ],
      "text/plain": [
       "                                               tweet\n",
       "0    jonviene  hablando sobre la adopcin por part...\n",
       "1    manhattanmanone  no he podido ver el program...\n",
       "2    fonsiloaiza  abascal se afili al pp con  aos...\n",
       "3    vox es    santi abascal en  el hormiguero   ...\n",
       "4    anabelalonso of   la mujer que quiera va a a...\n",
       "5   manhattanmanone  vox es  santi abascal zascaa...\n",
       "6    janogarcia   qu triste que pablo motos tenga...\n",
       "7     sapientiae  cuando te mola ms un comunista ...\n",
       "8   el hormiguero  santi abascal pablo motos  est...\n",
       "9    vox es    santi abascal en  el hormiguero   ..."
      ]
     },
     "execution_count": 92,
     "metadata": {},
     "output_type": "execute_result"
    }
   ],
   "source": [
    "tweets_10"
   ]
  },
  {
   "cell_type": "code",
   "execution_count": 93,
   "metadata": {},
   "outputs": [],
   "source": [
    "tweets_10 = tweets_10[0:10]"
   ]
  },
  {
   "cell_type": "code",
   "execution_count": 94,
   "metadata": {},
   "outputs": [
    {
     "data": {
      "text/html": [
       "<div>\n",
       "<style scoped>\n",
       "    .dataframe tbody tr th:only-of-type {\n",
       "        vertical-align: middle;\n",
       "    }\n",
       "\n",
       "    .dataframe tbody tr th {\n",
       "        vertical-align: top;\n",
       "    }\n",
       "\n",
       "    .dataframe thead th {\n",
       "        text-align: right;\n",
       "    }\n",
       "</style>\n",
       "<table border=\"1\" class=\"dataframe\">\n",
       "  <thead>\n",
       "    <tr style=\"text-align: right;\">\n",
       "      <th></th>\n",
       "      <th>tweet</th>\n",
       "    </tr>\n",
       "  </thead>\n",
       "  <tbody>\n",
       "    <tr>\n",
       "      <td>0</td>\n",
       "      <td>jonviene  hablando sobre la adopcin por part...</td>\n",
       "    </tr>\n",
       "    <tr>\n",
       "      <td>1</td>\n",
       "      <td>manhattanmanone  no he podido ver el program...</td>\n",
       "    </tr>\n",
       "    <tr>\n",
       "      <td>2</td>\n",
       "      <td>fonsiloaiza  abascal se afili al pp con  aos...</td>\n",
       "    </tr>\n",
       "    <tr>\n",
       "      <td>3</td>\n",
       "      <td>vox es    santi abascal en  el hormiguero   ...</td>\n",
       "    </tr>\n",
       "    <tr>\n",
       "      <td>4</td>\n",
       "      <td>anabelalonso of   la mujer que quiera va a a...</td>\n",
       "    </tr>\n",
       "    <tr>\n",
       "      <td>5</td>\n",
       "      <td>manhattanmanone  vox es  santi abascal zascaa...</td>\n",
       "    </tr>\n",
       "    <tr>\n",
       "      <td>6</td>\n",
       "      <td>janogarcia   qu triste que pablo motos tenga...</td>\n",
       "    </tr>\n",
       "    <tr>\n",
       "      <td>7</td>\n",
       "      <td>sapientiae  cuando te mola ms un comunista ...</td>\n",
       "    </tr>\n",
       "    <tr>\n",
       "      <td>8</td>\n",
       "      <td>el hormiguero  santi abascal pablo motos  est...</td>\n",
       "    </tr>\n",
       "    <tr>\n",
       "      <td>9</td>\n",
       "      <td>vox es    santi abascal en  el hormiguero   ...</td>\n",
       "    </tr>\n",
       "  </tbody>\n",
       "</table>\n",
       "</div>"
      ],
      "text/plain": [
       "                                               tweet\n",
       "0    jonviene  hablando sobre la adopcin por part...\n",
       "1    manhattanmanone  no he podido ver el program...\n",
       "2    fonsiloaiza  abascal se afili al pp con  aos...\n",
       "3    vox es    santi abascal en  el hormiguero   ...\n",
       "4    anabelalonso of   la mujer que quiera va a a...\n",
       "5   manhattanmanone  vox es  santi abascal zascaa...\n",
       "6    janogarcia   qu triste que pablo motos tenga...\n",
       "7     sapientiae  cuando te mola ms un comunista ...\n",
       "8   el hormiguero  santi abascal pablo motos  est...\n",
       "9    vox es    santi abascal en  el hormiguero   ..."
      ]
     },
     "execution_count": 94,
     "metadata": {},
     "output_type": "execute_result"
    }
   ],
   "source": [
    "tweets_10\n"
   ]
  },
  {
   "cell_type": "code",
   "execution_count": 11,
   "metadata": {},
   "outputs": [],
   "source": [
    "translations = translator.translate(tweets_10, dest='en')\n",
    "trans = []\n",
    "for translation in translations:\n",
    "    trans.append(translation.text)"
   ]
  },
  {
   "cell_type": "code",
   "execution_count": 11,
   "metadata": {},
   "outputs": [
    {
     "data": {
      "text/plain": [
       "['It should be talking about adoption by homosexual persons abascal man practically has said if you spare a child',\n",
       " 'manhattanmanone not have seen the program but this cut I will donate santi abascal first for Amazon because the work',\n",
       " 'fonsiloaiza Abascal percentage points Afili the years and has held positions their years has never traded outside of politics has cobr',\n",
       " 'vox is santi abascal in the anthill we defend legtima defense law that a person can defend his propie',\n",
       " 'Anabel Alonso of the woman who wants an abortion will help but will not have Pblica Santiago Abascal bone which have no resources',\n",
       " 'manhattanmanone vox is santi abascal zascaaaaa what you thought Pablito',\n",
       " 'janogarcia bikes sad what Paul has to justify the invitation to Santi Abascal because a totalitarian band wants to prevent',\n",
       " 'sapientiae when you mola more a communist who has no qualms about raising his fist that pays homage to Che re homfobo with flogging',\n",
       " 'Santi anthill abascal Pablo Motos is clear that you can only submit an entertainment program par t co',\n",
       " 'vox is santi abascal in the anthill we are the only ones who do not permitiramos leaving rapists of women from jail']"
      ]
     },
     "execution_count": 11,
     "metadata": {},
     "output_type": "execute_result"
    }
   ],
   "source": [
    "trans"
   ]
  },
  {
   "cell_type": "code",
   "execution_count": 13,
   "metadata": {},
   "outputs": [
    {
     "name": "stderr",
     "output_type": "stream",
     "text": [
      "/usr/local/lib/python3.6/dist-packages/ipykernel_launcher.py:1: SettingWithCopyWarning: \n",
      "A value is trying to be set on a copy of a slice from a DataFrame.\n",
      "Try using .loc[row_indexer,col_indexer] = value instead\n",
      "\n",
      "See the caveats in the documentation: http://pandas.pydata.org/pandas-docs/stable/user_guide/indexing.html#returning-a-view-versus-a-copy\n",
      "  \"\"\"Entry point for launching an IPython kernel.\n"
     ]
    }
   ],
   "source": [
    "tweets_10[\"trans\"] = trans"
   ]
  },
  {
   "cell_type": "code",
   "execution_count": 14,
   "metadata": {},
   "outputs": [
    {
     "data": {
      "text/html": [
       "<div>\n",
       "<style scoped>\n",
       "    .dataframe tbody tr th:only-of-type {\n",
       "        vertical-align: middle;\n",
       "    }\n",
       "\n",
       "    .dataframe tbody tr th {\n",
       "        vertical-align: top;\n",
       "    }\n",
       "\n",
       "    .dataframe thead th {\n",
       "        text-align: right;\n",
       "    }\n",
       "</style>\n",
       "<table border=\"1\" class=\"dataframe\">\n",
       "  <thead>\n",
       "    <tr style=\"text-align: right;\">\n",
       "      <th></th>\n",
       "      <th>tweet</th>\n",
       "      <th>trans</th>\n",
       "    </tr>\n",
       "  </thead>\n",
       "  <tbody>\n",
       "    <tr>\n",
       "      <td>0</td>\n",
       "      <td>jonviene  hablando sobre la adopcin por part...</td>\n",
       "      <td>It should be talking about adoption by homosex...</td>\n",
       "    </tr>\n",
       "    <tr>\n",
       "      <td>1</td>\n",
       "      <td>manhattanmanone  no he podido ver el program...</td>\n",
       "      <td>manhattanmanone not have seen the program but ...</td>\n",
       "    </tr>\n",
       "    <tr>\n",
       "      <td>2</td>\n",
       "      <td>fonsiloaiza  abascal se afili al pp con  aos...</td>\n",
       "      <td>fonsiloaiza Abascal percentage points Afili th...</td>\n",
       "    </tr>\n",
       "    <tr>\n",
       "      <td>3</td>\n",
       "      <td>vox es    santi abascal en  el hormiguero   ...</td>\n",
       "      <td>vox is santi abascal in the anthill we defend ...</td>\n",
       "    </tr>\n",
       "    <tr>\n",
       "      <td>4</td>\n",
       "      <td>anabelalonso of   la mujer que quiera va a a...</td>\n",
       "      <td>Anabel Alonso of the woman who wants an aborti...</td>\n",
       "    </tr>\n",
       "    <tr>\n",
       "      <td>5</td>\n",
       "      <td>manhattanmanone  vox es  santi abascal zascaa...</td>\n",
       "      <td>manhattanmanone vox is santi abascal zascaaaaa...</td>\n",
       "    </tr>\n",
       "    <tr>\n",
       "      <td>6</td>\n",
       "      <td>janogarcia   qu triste que pablo motos tenga...</td>\n",
       "      <td>janogarcia bikes sad what Paul has to justify ...</td>\n",
       "    </tr>\n",
       "    <tr>\n",
       "      <td>7</td>\n",
       "      <td>sapientiae  cuando te mola ms un comunista ...</td>\n",
       "      <td>sapientiae when you mola more a communist who ...</td>\n",
       "    </tr>\n",
       "    <tr>\n",
       "      <td>8</td>\n",
       "      <td>el hormiguero  santi abascal pablo motos  est...</td>\n",
       "      <td>Santi anthill abascal Pablo Motos is clear tha...</td>\n",
       "    </tr>\n",
       "    <tr>\n",
       "      <td>9</td>\n",
       "      <td>vox es    santi abascal en  el hormiguero   ...</td>\n",
       "      <td>vox is santi abascal in the anthill we are the...</td>\n",
       "    </tr>\n",
       "  </tbody>\n",
       "</table>\n",
       "</div>"
      ],
      "text/plain": [
       "                                               tweet  \\\n",
       "0    jonviene  hablando sobre la adopcin por part...   \n",
       "1    manhattanmanone  no he podido ver el program...   \n",
       "2    fonsiloaiza  abascal se afili al pp con  aos...   \n",
       "3    vox es    santi abascal en  el hormiguero   ...   \n",
       "4    anabelalonso of   la mujer que quiera va a a...   \n",
       "5   manhattanmanone  vox es  santi abascal zascaa...   \n",
       "6    janogarcia   qu triste que pablo motos tenga...   \n",
       "7     sapientiae  cuando te mola ms un comunista ...   \n",
       "8   el hormiguero  santi abascal pablo motos  est...   \n",
       "9    vox es    santi abascal en  el hormiguero   ...   \n",
       "\n",
       "                                               trans  \n",
       "0  It should be talking about adoption by homosex...  \n",
       "1  manhattanmanone not have seen the program but ...  \n",
       "2  fonsiloaiza Abascal percentage points Afili th...  \n",
       "3  vox is santi abascal in the anthill we defend ...  \n",
       "4  Anabel Alonso of the woman who wants an aborti...  \n",
       "5  manhattanmanone vox is santi abascal zascaaaaa...  \n",
       "6  janogarcia bikes sad what Paul has to justify ...  \n",
       "7  sapientiae when you mola more a communist who ...  \n",
       "8  Santi anthill abascal Pablo Motos is clear tha...  \n",
       "9  vox is santi abascal in the anthill we are the...  "
      ]
     },
     "execution_count": 14,
     "metadata": {},
     "output_type": "execute_result"
    }
   ],
   "source": [
    "tweets_10"
   ]
  },
  {
   "cell_type": "code",
   "execution_count": 7,
   "metadata": {},
   "outputs": [],
   "source": [
    "a_200=a[:200]\n",
    "a_400=a[200:400]\n",
    "a_600 = a[400:600]\n",
    "a_800 = a[600:800]\n",
    "a_1000 = a[800:]"
   ]
  },
  {
   "cell_type": "code",
   "execution_count": 8,
   "metadata": {},
   "outputs": [
    {
     "data": {
      "text/plain": [
       "200"
      ]
     },
     "execution_count": 8,
     "metadata": {},
     "output_type": "execute_result"
    }
   ],
   "source": [
    "len (a_200)"
   ]
  },
  {
   "cell_type": "code",
   "execution_count": 8,
   "metadata": {},
   "outputs": [],
   "source": [
    "traduct = []"
   ]
  },
  {
   "cell_type": "code",
   "execution_count": 9,
   "metadata": {},
   "outputs": [],
   "source": [
    "translations = translator.translate(a_400, dest='en')\n",
    "for translation in translations:\n",
    "    traduct.append(translation.text)"
   ]
  },
  {
   "cell_type": "code",
   "execution_count": 10,
   "metadata": {},
   "outputs": [
    {
     "data": {
      "text/plain": [
       "200"
      ]
     },
     "execution_count": 10,
     "metadata": {},
     "output_type": "execute_result"
    }
   ],
   "source": [
    "len(traduct)"
   ]
  },
  {
   "cell_type": "code",
   "execution_count": 12,
   "metadata": {},
   "outputs": [
    {
     "data": {
      "text/plain": [
       "['It should be talking about adoption by homosexual persons abascal man practically has said if you spare a child',\n",
       " 'manhattanmanone not have seen the program but this cut I will donate santi abascal first for Amazon because the work',\n",
       " 'fonsiloaiza Abascal percentage points Afili the years and has held positions their years has never traded outside of politics has cobr',\n",
       " 'vox is santi abascal in the anthill we defend legtima defense law that a person can defend his propie',\n",
       " 'Anabel Alonso of the woman who wants an abortion will help but will not have Pblica Santiago Abascal bone which have no resources',\n",
       " 'manhattanmanone vox is santi abascal zascaaaaa what you thought Pablito',\n",
       " 'janogarcia bikes sad what Paul has to justify the invitation to Santi Abascal because a totalitarian band wants to prevent',\n",
       " 'sapientiae when you mola more a communist who has no qualms about raising his fist that pays homage to Che re homfobo with flogging',\n",
       " 'Santi anthill abascal Pablo Motos is clear that you can only submit an entertainment program par t co',\n",
       " 'vox is santi abascal in the anthill we are the only ones who do not permitiramos leaving rapists of women from jail',\n",
       " 'luciacuervas abascal I also represent the gay community do not know why we are accused of homfobos santiagoabascaleh htt',\n",
       " 'santi abascal in the anthill anyone in self-defense must be able to defend their property and their f',\n",
       " 'Anabel Alonso of the woman who wants an abortion will help but will not have Pblica Santiago Abascal bone which have no resources',\n",
       " 'vox is santi abascal in the anthill we are the only ones who do not permitiramos leaving rapists of women from jail',\n",
       " \"correct me if I'm wrong but those who are calling for a boycott of interviewing four santiago abascal are not\",\n",
       " 'fj alcaraz many Spaniards begin to know quin and as is santi abascal who know him from years ago we did not sorprend',\n",
       " 'in politics espaola hermanntertsch the authenticity of abascal santi has no rival nobody none even remotely t co nhb',\n",
       " 'mryinyangfc perlalaura the anthill santi abascal as it is kill yourself before losing that c t co',\n",
       " 'manhattanmanone not have seen the program but this cut I will donate santi abascal first for Amazon because the work',\n",
       " 'andaluciasinvox pp partners and c s abascal has the abortion outlawed clear what the woman is inside your body is not',\n",
       " 'vox is santi abascal in the anthill ordered the arrest of torra the suspension of the autonomy of Catalonia close and',\n",
       " 'espainews santi abascal today in the anthill defendera the Melilla border with walls more big if necessary and Segu',\n",
       " 'hermanntertsch has bikes luck thanks to the program Vern Santiago Abascal who do t co JAMS',\n",
       " 'santi abascal the anthill to see sirs Paul already knows how to think but it was Democrat h t co',\n",
       " 'muyliberal the difference between santi abascal and the others is that l is not intended to please everyone and ask for the vote of all vox',\n",
       " 'juanfraescudero abascal ultimatum of his councilors roquetas or wages are lowered or the fucking street well p',\n",
       " 'luciacuervas abascal I also represent the gay community do not know why we are accused of homfobos santiagoabascaleh htt',\n",
       " 'abascal resistance in the ant and piqué resistance in the two spies',\n",
       " 'albertoluni Paul motorcycle whenever attempting to make clear abascal and fails santiagoabascaleh t co',\n",
       " 'labella all these rods have been interviewed times the anthill and nobody said anything, but when he first goes to santi',\n",
       " 'bichichi many decs the dwarf fucking gone to attack m abascal and I found the opposite preguntndole things so polmi',\n",
       " 'solileovi popper seeing abascal in the anthill tia',\n",
       " 'I do not like or abascal or vox on this basis if you want freedom of expression is for all like it or not',\n",
       " 'willytolerdoo defenders of freedom of speech criticizing abascal invite the anthill',\n",
       " 'juanfraescudero says abascal in the anthill defendera the Melilla border with walls more big if necessary and send',\n",
       " 'porhispania santiagoabascaleh a good legal respectful sincere a person looking into the eyes has embroidered his presenc',\n",
       " 'vox is santi abascal in the anthill we defend legtima defense law that a person can defend his propie',\n",
       " 'Sitting here to see santi abascal in the anthill and I find q q the only leader did not want to go is sanche',\n",
       " 'qu gandalfgris relajadito Paul bikes Santiago abascal just like with pablenin santiagoabascaleh t eh co uczpqbhl',\n",
       " 'vox is santi abascal in the anthill ordered the arrest of torra the suspension of the autonomy of Catalonia close and',\n",
       " 'that embarrassment of interview Pablo Motos Santiago Abascal little respect and professionalism little santiagoabascaleh',\n",
       " 'Anabel Alonso of the woman who wants an abortion will help but will not have Pblica Santiago Abascal bone which have no resources',\n",
       " 'I have made a tweet about Santiago Abascal has no defense as any mess you with my photo perf t co',\n",
       " 'great holy holy abascal santiagoabascalsimerepresenta vox es t co',\n",
       " \"and after this great interview I'm seeing Santiago Abascal openly without falling into the traps without mie\",\n",
       " 'tuiteroapostol intentento to throw on the floor to santi abascal just GOT that looked even more a man with values \\u200b\\u200bthat do not',\n",
       " 'eljueves in short when abascal tries to look good and measured words seems what has always been a pepero ms',\n",
       " 'Pablo Motos embarrar searched the ground but Santiago Abascal speaks clearly explained very well and especially you',\n",
       " 'juanfraescudero those who criticize Paul motorcycles interview santiago abascal are the same as decan Otegi right tena to s',\n",
       " 'abascal repelling continuous attacks forgiveness questions santiagoabascaleh t co Pablo Motos',\n",
       " \"correct me if I'm wrong but those who are calling for a boycott of interviewing four santiago abascal are not\",\n",
       " \"frandevox've never seen everything a leader of a political party and candidate for prime minister to convey a sense of sinc\",\n",
       " 'I have to say that I liked and much santi abascal in the anthill on many issues and I agree t represents co',\n",
       " 'fonsiloaiza Abascal percentage points Afili the years and has held positions their years has never traded outside of politics has cobr',\n",
       " 'Anabel Alonso of the woman who wants an abortion will help but will not have Pblica Santiago Abascal bone which have no resources',\n",
       " 'santi anthill abascal narrow the vox it is what santi thinks abascal contempt that the various governments have somet',\n",
       " 'salcedo ibiza people complaining because they have made a incmoda interview abascal as a m q do it is fine with me as interviews',\n",
       " 'vox is santi s abascal in the anthill is true that the Socialist Party has used scare us to have such barbarities not',\n",
       " 'fonsiloaiza Abascal percentage points Afili the years and has held positions their years has never traded outside of politics has cobr',\n",
       " 'tortondo very appropriate the start of the anthill with the visit of abascal thanks to the collaboration of noabraspaz and moral support',\n",
       " 'and he does not like not vote vox but mediastintas and bienquedas already have many abascal firm in their opinions',\n",
       " 'colin santi rivas abascal live in the anthill Pablo Motos fan asks about the calentongueval and Amazon santi',\n",
       " 'juanfraescudero santiago santi abascal abascal is proving to be a person with great patriotism a good person with a gr',\n",
       " 'gabrielrufian if joker habis seen in movies Podis see abascal in the anthill',\n",
       " \"vox is santi abascal in the anthill s've ever fought but death and my mouth sec more than in sta interview s\",\n",
       " 'in politics espaola hermanntertsch the authenticity of abascal santi has no rival nobody none even remotely t co nhb',\n",
       " 'jonhcristo churches hope when you go ask him for his support for his proetarras Venezuela che guevara fraud hatred of',\n",
       " 'vox is santi abascal in the anthill the other day talking about the social emergency affecting the Spaniards the caresta',\n",
       " 'vox is santi abascal in the anthill on euthanasia we put the reflection on a man Ramon Sampedro in the US',\n",
       " 'vox is santi abascal in the anthill we are the only ones who do not permitiramos leaving rapists of women from jail',\n",
       " 'litrileon the anthill santi abascal vox is an example for Spain tena to be more jusapol interiorgo as equiparacionya',\n",
       " 'eledhmel those who ask boicotelhormiguero because it santi abascal are the same who viewed delighted to Otegi in different program',\n",
       " 'casoaislado is strong words vox Santiago Abascal is president during his intervention in the anthill santiagoab',\n",
       " 'Santi anthill abascal a psychologist can help you overcome your mental problems',\n",
       " 'absolutely nobody nobody nobody abascal in the anthill is that it is my conviction',\n",
       " 'euprepiopadula do not miss this homfobo statements on homosexual adoption will touch children who do not want',\n",
       " 'Anabel Alonso of the woman who wants an abortion will help but will not have Pblica Santiago Abascal bone which have no resources',\n",
       " 'Pablo Motos has been a lesson trying to sink someone with hatred and retratarte yourself as a sad being and',\n",
       " 'I do not see the anthill I do not like the program and no vox vote but tonight will see the grounds abascal',\n",
       " 'chuckiclampy amazing how inviting the anthill of Santiago Abascal how quality has gone down before was a program debates',\n",
       " 'ivanedlm trending topics on twitter now boicotelhormiguero Pablo Motos abascal what we will spend well mixed',\n",
       " 'hermanntertsch vox is santi abascal go but do not fall into account that you live in a country of cowards',\n",
       " 'after seeing abascal I reaffirm my vote t co',\n",
       " 'Mr. dbunker abascal interview on a private TV that costs us a hard boycott interview Otegi in a tele Pblica qu',\n",
       " 'aliciaguesswhat SABIS not taste that gives be represented by someone to express just what I think but with much',\n",
       " 'igarri javaz go if it turns out that after interviewing santi abascal million Spaniards have found that vox nor are',\n",
       " 'harticoestoy igarrigavaz santi igarrigavaz abascal the problem is not that vox is not a fascist party that is not the problem',\n",
       " 'Anabel Alonso of the woman who wants an abortion will help but will not have Pblica Santiago Abascal bone which have no resources',\n",
       " 'agustin Rosety anyone have done an interview in the anthill as have been made today santi abascal and has left more than',\n",
       " 'santi abascal the anthill phrases taken out of context and who are manipulating all means',\n",
       " 'Mr. dbunker abascal interview on a private TV that costs us a hard boycott interview Otegi in a tele Pblica qu',\n",
       " 'in politics espaola hermanntertsch the authenticity of abascal santi has no rival nobody none even remotely t co nhb',\n",
       " 'Anabel Alonso of the woman who wants an abortion will help but will not have Pblica Santiago Abascal bone which have no resources',\n",
       " 'juanfraescudero says abascal in the anthill defendera the Melilla border with walls more big if necessary and send',\n",
       " 'vox is santi abascal in the anthill we are the only ones who do not permitiramos leaving rapists of women from jail',\n",
       " 'agustin Rosety anyone have done an interview in the anthill as have been made today santi abascal and has left more than',\n",
       " 'gladiatorastur Pablo Motos has done everything possible to not look close and affectionate with santi abascal denotes a certain acojone of the',\n",
       " 'vox is santi abascal in the anthill I I pulled the gun license to protect my father in the Basque country santia',\n",
       " 'alfonsopmedina Santiago Abascal said that as a first step to the Interior Ministry ordered the detention of someone l torra',\n",
       " 'Pablo Motos unwillingly he is making the best possible campaign abascal hacindole interview lasts more than h',\n",
       " \"santi abascal Picture a wimp's shirt Spanish army ground or a co ma t\",\n",
       " 'Pablo Motos unwillingly he is making the best possible campaign abascal hacindole interview lasts more than h',\n",
       " 'fonsiloaiza Abascal percentage points Afili the years and has held positions their years has never traded outside of politics has cobr',\n",
       " 'jupol valladolid thinks qu santi abascal years of injustice to police and Civil Guard ffccssee charging less than the',\n",
       " 'Deconstructing abascal the lies he has told Pablo Motos in the anthill t co t co v',\n",
       " 'sonrisitasbobas not imprison any woman to abort bad I do not see two men kiss on the big I will not oppose the',\n",
       " 'igarri javaz go if it turns out that after interviewing santi abascal million Spaniards have found that vox nor are',\n",
       " \"correct me if I'm wrong but those who are calling for a boycott of interviewing four santiago abascal are not\",\n",
       " 'abascal withdraws a Gift pablo motos in the anthill you is not liking the interview t co itmvfaklqj',\n",
       " 'vox is santi abascal in the anthill ordered the arrest of torra the suspension of the autonomy of Catalonia close and',\n",
       " 'casoaislado is to see if Pablo Motos progres has been unable to explain better learn santiagoabascaleh not be democratic',\n",
       " 'vox is santi abascal in the anthill ordered the arrest of torra the suspension of the autonomy of Catalonia close and',\n",
       " 'carnecrudaradio vox is no more party to go with fits and starts and chemistry that is normalized to the extreme right',\n",
       " 'pablo motos have been justified as abascal to the anthill and this corrects t get anything more co',\n",
       " 'cristinasolanos gatomochete puigmelont dm alonso because the feminist lobby gives a lot of money to the media not your t co iyynmcsleq',\n",
       " 'vox is santi abascal in the anthill the goal is not unearth franc is the excuse the goal is Philip VI and an m',\n",
       " 'fonsiloaiza Abascal percentage points Afili the years and has held positions their years has never traded outside of politics has cobr',\n",
       " 'Santiago Abascal scandal santiago abascal television co t',\n",
       " 'fonsiloaiza Abascal percentage points Afili the years and has held positions their years has never traded outside of politics has cobr',\n",
       " 'agustin Rosety anyone have done an interview in the anthill as have been made today santi abascal and has left more than',\n",
       " \"correct me if I'm wrong but those who are calling for a boycott of interviewing four santiago abascal are not\",\n",
       " 'antoniornaranjo the same as not decan or m or supported the presence of Otegi in tve brown lan now see abascal in the hor',\n",
       " 'Anabel Alonso of the woman who wants an abortion will help but will not have Pblica Santiago Abascal bone which have no resources',\n",
       " 'santi anthill abascal the vox is ayyy as liberals are tolerant',\n",
       " 'igarri javaz go if it turns out that after interviewing santi abascal million Spaniards have found that vox nor are',\n",
       " 'I insist that this is abascal has said very important and has spoken very little about it t co',\n",
       " 'Anabel Alonso of the woman who wants an abortion will help but will not have Pblica Santiago Abascal bone which have no resources',\n",
       " 'tortondo very appropriate the start of the anthill with the visit of abascal thanks to the collaboration of noabraspaz and moral support',\n",
       " \"correct me if I'm wrong but those who are calling for a boycott of interviewing four santiago abascal are not\",\n",
       " 'sapientiae when you mola more a communist who has no qualms about raising his fist that pays homage to Che re homfobo with flogging',\n",
       " \"vox is santi abascal in the anthill s've ever fought but death and my mouth sec more than in sta interview s\",\n",
       " 'albertoluni Paul motorcycle whenever attempting to make clear abascal and fails santiagoabascaleh t co',\n",
       " 'vox is santi abascal in the anthill we defend legtima defense law that a person can defend his propie',\n",
       " \"and after this great interview I'm seeing Santiago Abascal openly without falling into the traps without mie\",\n",
       " 'mbarraganl now liberals are going to have hard work to interpret this interesting phrase because I diris santi abascal in the ho',\n",
       " 'fonsiloaiza Abascal percentage points Afili the years and has held positions their years has never traded outside of politics has cobr',\n",
       " 'Anabel Alonso of the woman who wants an abortion will help but will not have Pblica Santiago Abascal bone which have no resources',\n",
       " 'jmdelalamo has been the most serious interview that has made the anthill is never likely that the other candidates have another ton',\n",
       " 'santi abascal the anthill we talk about his approach ahead of the elections santiagoabascaleh t co',\n",
       " 'vox is santi abascal in the anthill as I will bother m two gays kiss in the street in any way',\n",
       " 'Anabel Alonso of the woman who wants an abortion will help but will not have Pblica Santiago Abascal bone which have no resources',\n",
       " 'anthill santi Diego Pablo Motos abascal vox is apologizing for having to Santiago Abascal bad is the liberal fear',\n",
       " 'Anabel Alonso of the woman who wants an abortion will help but will not have Pblica Santiago Abascal bone which have no resources',\n",
       " 'vox is santi abascal in the anthill I I pulled the gun license to protect my father in the Basque country santia',\n",
       " 'diegomrtg despite the boicotelhormiguero against santi abascal or through the search at the same time is the anthill what has d',\n",
       " 'hermanntertsch vox is santi abascal qu abascal authenticity has not worked in his life was jumping co t enc',\n",
       " 'ldpsincomplejos it has been extraordinary interview with santi abascal curiously to see that he is somewhat stiff to pro',\n",
       " 'eledhmel santi abascal we defend women because we estn rapists in jail and we do not want or',\n",
       " 'David Iglesias says abascal am not homfobo in the next sentence he says that with better adoption give the child to a family',\n",
       " \"ldpsincomplejos because I'll cook dinner and I'm going to sit to see santi abascal in the anthill\",\n",
       " 'vox is santi abascal in the anthill as I will bother m two gays kiss in the street in any way',\n",
       " 'vox is santi abascal in the anthill defendera the Melilla border with walls more big if necessary and giving help',\n",
       " 'vox is santi abascal in the anthill as I will bother m two gays kiss in the street in any way',\n",
       " 'vox is santi abascal in the anthill we are the only ones who do not permitiramos leaving rapists of women from jail',\n",
       " 'Anabel Alonso of the woman who wants an abortion will help but will not have Pblica Santiago Abascal bone which have no resources',\n",
       " 'santi abascal although politically we can not be more away there are certain aspects that give the co t',\n",
       " 'davhierro years ago I was lucky enough to meet and santi abascal years ago that I decided to give up popular because saba',\n",
       " 'Pablo Motos uriahee I found abascal mean to ask if you have a gun if you have ever taken the',\n",
       " 'pablomm not mind interviewing abascal but context is everything is not the same sit you in front of a journalist and exposes',\n",
       " 'the anthill santi abascal not fucking understand how Podis a minute to give this character that fucking sucks',\n",
       " 'fonsiloaiza Abascal percentage points Afili the years and has held positions their years has never traded outside of politics has cobr',\n",
       " 'cid is vox tito santi tito anthill abascal man will not pass',\n",
       " 'agustin today Rosety santi abascal the left has been extraordinary we want to take away the freedom of expression never Veris us',\n",
       " 'furiabelga abascal just said that if he had to order the Interior Ministry to stop saying what a political torra',\n",
       " 'santi abascal the anthill we talk about his approach ahead of the elections santiagoabascaleh t co',\n",
       " 'bienquedas but it is precisely what has made the clown today abascal tran t co dqrbnnttjg',\n",
       " 'santi anthill abascal narrow the vox it is what santi thinks abascal contempt that the various governments have somet',\n",
       " 'vox is santi abascal in the anthill as I will bother m two gays kiss in the street in any way',\n",
       " 'juanfraescudero you like it or not santi abascal but at least you know that taste is not fooling occurs when a politician says',\n",
       " 'casoaislado is strong words vox Santiago Abascal is president during his intervention in the anthill santiagoab',\n",
       " 'Anabel Alonso of the woman who wants an abortion will help but will not have Pblica Santiago Abascal bone which have no resources',\n",
       " 'juanfraescudero santi abascal totally agree',\n",
       " 'vox is santi abascal in the anthill we are the only ones who do not permitiramos leaving rapists of women from jail',\n",
       " 'fonsiloaiza Abascal percentage points Afili the years and has held positions their years has never traded outside of politics has cobr',\n",
       " 'vox is santi abascal in the anthill as I will bother m two gays kiss in the street in any way',\n",
       " 'santi abascal murderer guevara image is completely distorted what many young engaados mystify c t co',\n",
       " 'vox is santi abascal in the anthill to motorbikes pablo I am concerned that you said we have only deputies in the cong',\n",
       " 'eledhmel santi abascal we defend women because we estn rapists in jail and we do not want or',\n",
       " 'Pablo Motos unwillingly he is making the best possible campaign abascal hacindole interview lasts more than h',\n",
       " 'abascal resistance in the ant and piqué resistance in the two spies',\n",
       " 'qu sad that abascal not have good feeling with me like both rivera',\n",
       " \"vox is santi abascal in the anthill s've ever fought but death and my mouth sec more than in sta interview s\",\n",
       " 'antoniomaestre vd has ledo and understood j goebbels compare Santiago abascal a nazi t shit is co zlhitssvlw',\n",
       " 'very embarrassing interview taking populist themes and trying to leave Santiago Abascal bad job s economy',\n",
       " 'vox is santi abascal in the anthill in vistalegre Apel especially national reconciliation can not come anyone to dict',\n",
       " 'I weighed everyone with the interview whore santi abascal',\n",
       " 'David Iglesias says abascal am not homfobo in the next sentence he says that with better adoption give the child to a family',\n",
       " 'santi anthill abascal the vox is not marry anyone in the anthill hahaha q trola the left molan them mu',\n",
       " 'casasola abascal as he was expected against the environmentalism of abortion euthanasia of gay adoption and',\n",
       " 'marcosgoldc to think of the words of santiabascal abascaleh El Hormiguero boicotalhormiguero abascal voxa anthill',\n",
       " 'vox is santi abascal in the anthill defendera the Melilla border with walls more big if necessary and giving help',\n",
       " 'eledhmel santi abascal am against abortion is one eugensica and contraceptive practice is to end human life',\n",
       " 'pablomm not mind interviewing abascal but context is everything is not the same sit you in front of a journalist and exposes',\n",
       " 'gabrielrufian if joker habis seen in movies Podis see abascal in the anthill',\n",
       " 'vox is santi abascal in the anthill we are the only ones who do not permitiramos leaving rapists of women from jail',\n",
       " 'fonsiloaiza Abascal percentage points Afili the years and has held positions their years has never traded outside of politics has cobr',\n",
       " \"pablo motos eledhmel look so good santi abascal is I'm good faith santiagoabascaleh I t co vzfourwzrr\",\n",
       " 'vox is santi abascal in the anthill on euthanasia we put the reflection on a man Ramon Sampedro in the US',\n",
       " 'in politics espaola hermanntertsch the authenticity of abascal santi has no rival nobody none even remotely t co nhb',\n",
       " 'vox is santi s abascal in the anthill is true that the Socialist Party has used scare us to have such barbarities not']"
      ]
     },
     "execution_count": 12,
     "metadata": {},
     "output_type": "execute_result"
    }
   ],
   "source": [
    "traduct"
   ]
  },
  {
   "cell_type": "code",
   "execution_count": 11,
   "metadata": {},
   "outputs": [],
   "source": [
    "tweets_200 = tweets[:200]"
   ]
  },
  {
   "cell_type": "code",
   "execution_count": 12,
   "metadata": {},
   "outputs": [
    {
     "name": "stderr",
     "output_type": "stream",
     "text": [
      "/usr/local/lib/python3.6/dist-packages/ipykernel_launcher.py:1: SettingWithCopyWarning: \n",
      "A value is trying to be set on a copy of a slice from a DataFrame.\n",
      "Try using .loc[row_indexer,col_indexer] = value instead\n",
      "\n",
      "See the caveats in the documentation: http://pandas.pydata.org/pandas-docs/stable/user_guide/indexing.html#returning-a-view-versus-a-copy\n",
      "  \"\"\"Entry point for launching an IPython kernel.\n"
     ]
    }
   ],
   "source": [
    "tweets_200[\"traduccion\"] = traduct"
   ]
  },
  {
   "cell_type": "code",
   "execution_count": 13,
   "metadata": {},
   "outputs": [
    {
     "data": {
      "text/html": [
       "<div>\n",
       "<style scoped>\n",
       "    .dataframe tbody tr th:only-of-type {\n",
       "        vertical-align: middle;\n",
       "    }\n",
       "\n",
       "    .dataframe tbody tr th {\n",
       "        vertical-align: top;\n",
       "    }\n",
       "\n",
       "    .dataframe thead th {\n",
       "        text-align: right;\n",
       "    }\n",
       "</style>\n",
       "<table border=\"1\" class=\"dataframe\">\n",
       "  <thead>\n",
       "    <tr style=\"text-align: right;\">\n",
       "      <th></th>\n",
       "      <th>tweet</th>\n",
       "      <th>traduccion</th>\n",
       "    </tr>\n",
       "  </thead>\n",
       "  <tbody>\n",
       "    <tr>\n",
       "      <td>0</td>\n",
       "      <td>jonviene  hablando sobre la adopcin por part...</td>\n",
       "      <td>espaa that beautiful country where interviewin...</td>\n",
       "    </tr>\n",
       "    <tr>\n",
       "      <td>1</td>\n",
       "      <td>manhattanmanone  no he podido ver el program...</td>\n",
       "      <td>Anabel Alonso of when abascal defines liberal ...</td>\n",
       "    </tr>\n",
       "    <tr>\n",
       "      <td>2</td>\n",
       "      <td>fonsiloaiza  abascal se afili al pp con  aos...</td>\n",
       "      <td>juanfraescudero abascal in the hard interview ...</td>\n",
       "    </tr>\n",
       "    <tr>\n",
       "      <td>3</td>\n",
       "      <td>vox es    santi abascal en  el hormiguero   ...</td>\n",
       "      <td>frentemiki all fachas after seeing Santiago Ab...</td>\n",
       "    </tr>\n",
       "    <tr>\n",
       "      <td>4</td>\n",
       "      <td>anabelalonso of   la mujer que quiera va a a...</td>\n",
       "      <td>santi abascal the mound in a state of law can ...</td>\n",
       "    </tr>\n",
       "    <tr>\n",
       "      <td>...</td>\n",
       "      <td>...</td>\n",
       "      <td>...</td>\n",
       "    </tr>\n",
       "    <tr>\n",
       "      <td>195</td>\n",
       "      <td>fonsiloaiza  abascal se afili al pp con  aos...</td>\n",
       "      <td>fonsiloaiza Abascal percentage points Afili th...</td>\n",
       "    </tr>\n",
       "    <tr>\n",
       "      <td>196</td>\n",
       "      <td>eledhmel  pablo motos   pareces tan bueno   ...</td>\n",
       "      <td>manhattanmanone not have seen the program but ...</td>\n",
       "    </tr>\n",
       "    <tr>\n",
       "      <td>197</td>\n",
       "      <td>vox es    santi abascal en  el hormiguero   ...</td>\n",
       "      <td>rchamode Santiago Abascal in the anthill were ...</td>\n",
       "    </tr>\n",
       "    <tr>\n",
       "      <td>198</td>\n",
       "      <td>hermanntertsch  la autenticidad de  santi ab...</td>\n",
       "      <td>vox is santi abascal in the anthill I I pulled...</td>\n",
       "    </tr>\n",
       "    <tr>\n",
       "      <td>199</td>\n",
       "      <td>vox es    santi abascal en  el hormiguero   ...</td>\n",
       "      <td>my honestly makes me a grace throughout the bo...</td>\n",
       "    </tr>\n",
       "  </tbody>\n",
       "</table>\n",
       "<p>200 rows × 2 columns</p>\n",
       "</div>"
      ],
      "text/plain": [
       "                                                 tweet  \\\n",
       "0      jonviene  hablando sobre la adopcin por part...   \n",
       "1      manhattanmanone  no he podido ver el program...   \n",
       "2      fonsiloaiza  abascal se afili al pp con  aos...   \n",
       "3      vox es    santi abascal en  el hormiguero   ...   \n",
       "4      anabelalonso of   la mujer que quiera va a a...   \n",
       "..                                                 ...   \n",
       "195    fonsiloaiza  abascal se afili al pp con  aos...   \n",
       "196    eledhmel  pablo motos   pareces tan bueno   ...   \n",
       "197    vox es    santi abascal en  el hormiguero   ...   \n",
       "198    hermanntertsch  la autenticidad de  santi ab...   \n",
       "199    vox es    santi abascal en  el hormiguero   ...   \n",
       "\n",
       "                                            traduccion  \n",
       "0    espaa that beautiful country where interviewin...  \n",
       "1    Anabel Alonso of when abascal defines liberal ...  \n",
       "2    juanfraescudero abascal in the hard interview ...  \n",
       "3    frentemiki all fachas after seeing Santiago Ab...  \n",
       "4    santi abascal the mound in a state of law can ...  \n",
       "..                                                 ...  \n",
       "195  fonsiloaiza Abascal percentage points Afili th...  \n",
       "196  manhattanmanone not have seen the program but ...  \n",
       "197  rchamode Santiago Abascal in the anthill were ...  \n",
       "198  vox is santi abascal in the anthill I I pulled...  \n",
       "199  my honestly makes me a grace throughout the bo...  \n",
       "\n",
       "[200 rows x 2 columns]"
      ]
     },
     "execution_count": 13,
     "metadata": {},
     "output_type": "execute_result"
    }
   ],
   "source": [
    "tweets_200"
   ]
  },
  {
   "cell_type": "code",
   "execution_count": 14,
   "metadata": {},
   "outputs": [],
   "source": [
    "tweets_200.to_csv('tweets_200.csv', index=False)"
   ]
  },
  {
   "cell_type": "code",
   "execution_count": 15,
   "metadata": {},
   "outputs": [],
   "source": [
    "tweets_200 = pd.read_csv(\"tweets_200.csv\")"
   ]
  },
  {
   "cell_type": "code",
   "execution_count": 16,
   "metadata": {},
   "outputs": [
    {
     "data": {
      "text/html": [
       "<div>\n",
       "<style scoped>\n",
       "    .dataframe tbody tr th:only-of-type {\n",
       "        vertical-align: middle;\n",
       "    }\n",
       "\n",
       "    .dataframe tbody tr th {\n",
       "        vertical-align: top;\n",
       "    }\n",
       "\n",
       "    .dataframe thead th {\n",
       "        text-align: right;\n",
       "    }\n",
       "</style>\n",
       "<table border=\"1\" class=\"dataframe\">\n",
       "  <thead>\n",
       "    <tr style=\"text-align: right;\">\n",
       "      <th></th>\n",
       "      <th>tweet</th>\n",
       "      <th>traduccion</th>\n",
       "    </tr>\n",
       "  </thead>\n",
       "  <tbody>\n",
       "    <tr>\n",
       "      <td>0</td>\n",
       "      <td>jonviene  hablando sobre la adopcin por part...</td>\n",
       "      <td>espaa that beautiful country where interviewin...</td>\n",
       "    </tr>\n",
       "    <tr>\n",
       "      <td>1</td>\n",
       "      <td>manhattanmanone  no he podido ver el program...</td>\n",
       "      <td>Anabel Alonso of when abascal defines liberal ...</td>\n",
       "    </tr>\n",
       "    <tr>\n",
       "      <td>2</td>\n",
       "      <td>fonsiloaiza  abascal se afili al pp con  aos...</td>\n",
       "      <td>juanfraescudero abascal in the hard interview ...</td>\n",
       "    </tr>\n",
       "    <tr>\n",
       "      <td>3</td>\n",
       "      <td>vox es    santi abascal en  el hormiguero   ...</td>\n",
       "      <td>frentemiki all fachas after seeing Santiago Ab...</td>\n",
       "    </tr>\n",
       "    <tr>\n",
       "      <td>4</td>\n",
       "      <td>anabelalonso of   la mujer que quiera va a a...</td>\n",
       "      <td>santi abascal the mound in a state of law can ...</td>\n",
       "    </tr>\n",
       "    <tr>\n",
       "      <td>...</td>\n",
       "      <td>...</td>\n",
       "      <td>...</td>\n",
       "    </tr>\n",
       "    <tr>\n",
       "      <td>195</td>\n",
       "      <td>fonsiloaiza  abascal se afili al pp con  aos...</td>\n",
       "      <td>fonsiloaiza Abascal percentage points Afili th...</td>\n",
       "    </tr>\n",
       "    <tr>\n",
       "      <td>196</td>\n",
       "      <td>eledhmel  pablo motos   pareces tan bueno   ...</td>\n",
       "      <td>manhattanmanone not have seen the program but ...</td>\n",
       "    </tr>\n",
       "    <tr>\n",
       "      <td>197</td>\n",
       "      <td>vox es    santi abascal en  el hormiguero   ...</td>\n",
       "      <td>rchamode Santiago Abascal in the anthill were ...</td>\n",
       "    </tr>\n",
       "    <tr>\n",
       "      <td>198</td>\n",
       "      <td>hermanntertsch  la autenticidad de  santi ab...</td>\n",
       "      <td>vox is santi abascal in the anthill I I pulled...</td>\n",
       "    </tr>\n",
       "    <tr>\n",
       "      <td>199</td>\n",
       "      <td>vox es    santi abascal en  el hormiguero   ...</td>\n",
       "      <td>my honestly makes me a grace throughout the bo...</td>\n",
       "    </tr>\n",
       "  </tbody>\n",
       "</table>\n",
       "<p>200 rows × 2 columns</p>\n",
       "</div>"
      ],
      "text/plain": [
       "                                                 tweet  \\\n",
       "0      jonviene  hablando sobre la adopcin por part...   \n",
       "1      manhattanmanone  no he podido ver el program...   \n",
       "2      fonsiloaiza  abascal se afili al pp con  aos...   \n",
       "3      vox es    santi abascal en  el hormiguero   ...   \n",
       "4      anabelalonso of   la mujer que quiera va a a...   \n",
       "..                                                 ...   \n",
       "195    fonsiloaiza  abascal se afili al pp con  aos...   \n",
       "196    eledhmel  pablo motos   pareces tan bueno   ...   \n",
       "197    vox es    santi abascal en  el hormiguero   ...   \n",
       "198    hermanntertsch  la autenticidad de  santi ab...   \n",
       "199    vox es    santi abascal en  el hormiguero   ...   \n",
       "\n",
       "                                            traduccion  \n",
       "0    espaa that beautiful country where interviewin...  \n",
       "1    Anabel Alonso of when abascal defines liberal ...  \n",
       "2    juanfraescudero abascal in the hard interview ...  \n",
       "3    frentemiki all fachas after seeing Santiago Ab...  \n",
       "4    santi abascal the mound in a state of law can ...  \n",
       "..                                                 ...  \n",
       "195  fonsiloaiza Abascal percentage points Afili th...  \n",
       "196  manhattanmanone not have seen the program but ...  \n",
       "197  rchamode Santiago Abascal in the anthill were ...  \n",
       "198  vox is santi abascal in the anthill I I pulled...  \n",
       "199  my honestly makes me a grace throughout the bo...  \n",
       "\n",
       "[200 rows x 2 columns]"
      ]
     },
     "execution_count": 16,
     "metadata": {},
     "output_type": "execute_result"
    }
   ],
   "source": [
    "tweets_200"
   ]
  },
  {
   "cell_type": "code",
   "execution_count": 18,
   "metadata": {},
   "outputs": [],
   "source": [
    "texto = list(tweets_200.traduccion)"
   ]
  },
  {
   "cell_type": "code",
   "execution_count": 17,
   "metadata": {},
   "outputs": [],
   "source": [
    "from nltk.sentiment import SentimentAnalyzer\n",
    "from nltk.sentiment.util import *\n",
    "from nltk.sentiment.vader import SentimentIntensityAnalyzer\n",
    "sid=SentimentIntensityAnalyzer()"
   ]
  },
  {
   "cell_type": "code",
   "execution_count": 23,
   "metadata": {},
   "outputs": [
    {
     "data": {
      "text/plain": [
       "'vox is santi abascal in the anthill ningn I have no fear of the elections our voters are the most loyal and many'"
      ]
     },
     "execution_count": 23,
     "metadata": {},
     "output_type": "execute_result"
    }
   ],
   "source": [
    "texto[20]"
   ]
  },
  {
   "cell_type": "code",
   "execution_count": 29,
   "metadata": {},
   "outputs": [],
   "source": [
    "analisis = []\n",
    "for x in texto:\n",
    "    analisis.append(sid.polarity_scores(x))"
   ]
  },
  {
   "cell_type": "code",
   "execution_count": 34,
   "metadata": {},
   "outputs": [
    {
     "data": {
      "text/plain": [
       "{'neg': 0.053, 'neu': 0.873, 'pos': 0.074, 'compound': 0.1225}"
      ]
     },
     "execution_count": 34,
     "metadata": {},
     "output_type": "execute_result"
    }
   ],
   "source": [
    "analisis[24]"
   ]
  },
  {
   "cell_type": "code",
   "execution_count": 47,
   "metadata": {},
   "outputs": [],
   "source": [
    "compound = []\n",
    "for x in analisis:\n",
    "    compound.append(x[\"compound\"])"
   ]
  },
  {
   "cell_type": "code",
   "execution_count": 48,
   "metadata": {},
   "outputs": [],
   "source": [
    "tweets_200[\"compound\"] = compound"
   ]
  },
  {
   "cell_type": "code",
   "execution_count": 63,
   "metadata": {},
   "outputs": [],
   "source": [
    "tweets_200.to_csv('tweets_200_compound.csv', index=False)"
   ]
  },
  {
   "cell_type": "code",
   "execution_count": 88,
   "metadata": {},
   "outputs": [
    {
     "data": {
      "text/plain": [
       "0.014927000000000003"
      ]
     },
     "execution_count": 88,
     "metadata": {},
     "output_type": "execute_result"
    }
   ],
   "source": [
    "tweets_200[\"compound\"].mean()"
   ]
  },
  {
   "cell_type": "code",
   "execution_count": 68,
   "metadata": {},
   "outputs": [],
   "source": [
    "import matplotlib as plt\n",
    "import matplotlib.pyplot as plt"
   ]
  },
  {
   "cell_type": "code",
   "execution_count": 77,
   "metadata": {},
   "outputs": [],
   "source": [
    "lista_compo = list(tweets_200[\"compound\"])"
   ]
  },
  {
   "cell_type": "code",
   "execution_count": 102,
   "metadata": {},
   "outputs": [
    {
     "data": {
      "text/html": [
       "<div>\n",
       "<style scoped>\n",
       "    .dataframe tbody tr th:only-of-type {\n",
       "        vertical-align: middle;\n",
       "    }\n",
       "\n",
       "    .dataframe tbody tr th {\n",
       "        vertical-align: top;\n",
       "    }\n",
       "\n",
       "    .dataframe thead th {\n",
       "        text-align: right;\n",
       "    }\n",
       "</style>\n",
       "<table border=\"1\" class=\"dataframe\">\n",
       "  <thead>\n",
       "    <tr style=\"text-align: right;\">\n",
       "      <th></th>\n",
       "      <th>tweet</th>\n",
       "      <th>traduccion</th>\n",
       "      <th>compound</th>\n",
       "    </tr>\n",
       "  </thead>\n",
       "  <tbody>\n",
       "    <tr>\n",
       "      <td>0</td>\n",
       "      <td>jonviene  hablando sobre la adopcin por part...</td>\n",
       "      <td>espaa that beautiful country where interviewin...</td>\n",
       "      <td>0.0772</td>\n",
       "    </tr>\n",
       "    <tr>\n",
       "      <td>1</td>\n",
       "      <td>manhattanmanone  no he podido ver el program...</td>\n",
       "      <td>Anabel Alonso of when abascal defines liberal ...</td>\n",
       "      <td>0.0000</td>\n",
       "    </tr>\n",
       "    <tr>\n",
       "      <td>2</td>\n",
       "      <td>fonsiloaiza  abascal se afili al pp con  aos...</td>\n",
       "      <td>juanfraescudero abascal in the hard interview ...</td>\n",
       "      <td>0.5730</td>\n",
       "    </tr>\n",
       "    <tr>\n",
       "      <td>3</td>\n",
       "      <td>vox es    santi abascal en  el hormiguero   ...</td>\n",
       "      <td>frentemiki all fachas after seeing Santiago Ab...</td>\n",
       "      <td>0.0000</td>\n",
       "    </tr>\n",
       "    <tr>\n",
       "      <td>4</td>\n",
       "      <td>anabelalonso of   la mujer que quiera va a a...</td>\n",
       "      <td>santi abascal the mound in a state of law can ...</td>\n",
       "      <td>0.2382</td>\n",
       "    </tr>\n",
       "    <tr>\n",
       "      <td>...</td>\n",
       "      <td>...</td>\n",
       "      <td>...</td>\n",
       "      <td>...</td>\n",
       "    </tr>\n",
       "    <tr>\n",
       "      <td>195</td>\n",
       "      <td>fonsiloaiza  abascal se afili al pp con  aos...</td>\n",
       "      <td>fonsiloaiza Abascal percentage points Afili th...</td>\n",
       "      <td>0.0000</td>\n",
       "    </tr>\n",
       "    <tr>\n",
       "      <td>196</td>\n",
       "      <td>eledhmel  pablo motos   pareces tan bueno   ...</td>\n",
       "      <td>manhattanmanone not have seen the program but ...</td>\n",
       "      <td>-0.2529</td>\n",
       "    </tr>\n",
       "    <tr>\n",
       "      <td>197</td>\n",
       "      <td>vox es    santi abascal en  el hormiguero   ...</td>\n",
       "      <td>rchamode Santiago Abascal in the anthill were ...</td>\n",
       "      <td>0.0000</td>\n",
       "    </tr>\n",
       "    <tr>\n",
       "      <td>198</td>\n",
       "      <td>hermanntertsch  la autenticidad de  santi ab...</td>\n",
       "      <td>vox is santi abascal in the anthill I I pulled...</td>\n",
       "      <td>0.0516</td>\n",
       "    </tr>\n",
       "    <tr>\n",
       "      <td>199</td>\n",
       "      <td>vox es    santi abascal en  el hormiguero   ...</td>\n",
       "      <td>my honestly makes me a grace throughout the bo...</td>\n",
       "      <td>0.7003</td>\n",
       "    </tr>\n",
       "  </tbody>\n",
       "</table>\n",
       "<p>200 rows × 3 columns</p>\n",
       "</div>"
      ],
      "text/plain": [
       "                                                 tweet  \\\n",
       "0      jonviene  hablando sobre la adopcin por part...   \n",
       "1      manhattanmanone  no he podido ver el program...   \n",
       "2      fonsiloaiza  abascal se afili al pp con  aos...   \n",
       "3      vox es    santi abascal en  el hormiguero   ...   \n",
       "4      anabelalonso of   la mujer que quiera va a a...   \n",
       "..                                                 ...   \n",
       "195    fonsiloaiza  abascal se afili al pp con  aos...   \n",
       "196    eledhmel  pablo motos   pareces tan bueno   ...   \n",
       "197    vox es    santi abascal en  el hormiguero   ...   \n",
       "198    hermanntertsch  la autenticidad de  santi ab...   \n",
       "199    vox es    santi abascal en  el hormiguero   ...   \n",
       "\n",
       "                                            traduccion  compound  \n",
       "0    espaa that beautiful country where interviewin...    0.0772  \n",
       "1    Anabel Alonso of when abascal defines liberal ...    0.0000  \n",
       "2    juanfraescudero abascal in the hard interview ...    0.5730  \n",
       "3    frentemiki all fachas after seeing Santiago Ab...    0.0000  \n",
       "4    santi abascal the mound in a state of law can ...    0.2382  \n",
       "..                                                 ...       ...  \n",
       "195  fonsiloaiza Abascal percentage points Afili th...    0.0000  \n",
       "196  manhattanmanone not have seen the program but ...   -0.2529  \n",
       "197  rchamode Santiago Abascal in the anthill were ...    0.0000  \n",
       "198  vox is santi abascal in the anthill I I pulled...    0.0516  \n",
       "199  my honestly makes me a grace throughout the bo...    0.7003  \n",
       "\n",
       "[200 rows x 3 columns]"
      ]
     },
     "execution_count": 102,
     "metadata": {},
     "output_type": "execute_result"
    }
   ],
   "source": [
    "tweets_200"
   ]
  },
  {
   "cell_type": "code",
   "execution_count": 86,
   "metadata": {},
   "outputs": [
    {
     "data": {
      "image/png": "[encoded data removed]",
      "text/plain": [
       "<Figure size 432x288 with 1 Axes>"
      ]
     },
     "metadata": {
      "needs_background": "light"
     },
     "output_type": "display_data"
    }
   ],
   "source": [
    "plt.plot(lista_compo, \"ro\")\n",
    "plt.ylabel('COMPOUND')\n",
    "plt.show()"
   ]
  },
  {
   "cell_type": "code",
   "execution_count": null,
   "metadata": {},
   "outputs": [],
   "source": []
  },
  {
   "cell_type": "code",
   "execution_count": null,
   "metadata": {},
   "outputs": [],
   "source": []
  }
 ],
 "metadata": {
  "kernelspec": {
   "display_name": "Python 3",
   "language": "python",
   "name": "python3"
  },
  "language_info": {
   "codemirror_mode": {
    "name": "ipython",
    "version": 3
   },
   "file_extension": ".py",
   "mimetype": "text/x-python",
   "name": "python",
   "nbconvert_exporter": "python",
   "pygments_lexer": "ipython3",
   "version": "3.6.8"
  }
 },
 "nbformat": 4,
 "nbformat_minor": 2
}
